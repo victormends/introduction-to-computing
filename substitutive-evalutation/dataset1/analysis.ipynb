{
 "cells": [
  {
   "cell_type": "code",
   "execution_count": 1,
   "metadata": {},
   "outputs": [],
   "source": [
    "import pandas as pd\n",
    "from matplotlib import pyplot as plt\n",
    "import numpy as np\n",
    "\n",
    "\n",
    "\n",
    "df = pd.read_csv(\"heroes_information1.csv\")\n",
    "df\n",
    "\n",
    "m = pd.read_csv(\"male.csv\")\n",
    "f = pd.read_csv(\"female.csv\")"
   ]
  },
  {
   "cell_type": "code",
   "execution_count": 2,
   "metadata": {},
   "outputs": [
    {
     "name": "stdout",
     "output_type": "stream",
     "text": [
      "A Base de dados contém informações sobre as características de heróis incluindo dados sobre aparência e sobre poderes, como a ideia do trabalho é a realização de duas perguntas com uso de visualizações em suas respostas, escolhi seguir uma linha de estudo a qual tenho interesse pessoal: a da idealização x realidade; Com isso, minha primeira pergunta é:\n",
      " \n",
      "A distribuição da coloração dos olhos dos super-heróis reflete a realidade?\n"
     ]
    }
   ],
   "source": [
    "print(\"A Base de dados contém informações sobre as características de heróis incluindo dados sobre aparência e sobre poderes, como a ideia do trabalho é a realização de duas perguntas com uso de visualizações em suas respostas, escolhi seguir uma linha de estudo a qual tenho interesse pessoal: a da idealização x realidade; Com isso, minha primeira pergunta é:\") \n",
    "print(\" \")\n",
    "print(\"A distribuição da coloração dos olhos dos super-heróis reflete a realidade?\")"
   ]
  },
  {
   "cell_type": "code",
   "execution_count": 3,
   "metadata": {},
   "outputs": [
    {
     "name": "stdout",
     "output_type": "stream",
     "text": [
      "Primeiro tentei fazer uma limpeza da base juntando as diversas colorações em grupos mais gerais, como 'amber', 'brown' e 'black' em 'Castanhos' para melhor visualização.\n",
      " \n",
      "Neste dataframe 40.81237911025145 % dos heróis tem olhos azuis\n",
      "Já com olhos castanhos, são 24.37137330754352 % do total\n",
      "E com olhos verdes ao todo são 13.346228239845262 %\n",
      "Outras cores como vermelho, roxo, amarelo e branco e personagens sem informação compõem os 21.47001934235977 % restantes\n"
     ]
    }
   ],
   "source": [
    "eye = df.Eye.value_counts()\n",
    "\n",
    "blue = eye['blue']*100/eye.values.sum()\n",
    "brown = eye['brown']*100/eye.values.sum()\n",
    "black = eye['black']*100/eye.values.sum()\n",
    "green = eye['green']*100/eye.values.sum()\n",
    "hazel = eye['hazel']*100/eye.values.sum()\n",
    "grey = eye['grey']*100/eye.values.sum()\n",
    "ind = eye['indigo']*100/eye.values.sum()\n",
    "purp = eye['purple']*100/eye.values.sum()\n",
    "red = eye['red']*100/eye.values.sum()\n",
    "sil = eye['silver']*100/eye.values.sum()\n",
    "vio = eye['violet']*100/eye.values.sum()\n",
    "white = eye['white']*100/eye.values.sum()\n",
    "yellow = eye['yellow']*100/eye.values.sum()\n",
    "amber = eye['amber']*100/eye.values.sum()\n",
    "gold = eye['gold']*100/eye.values.sum()\n",
    "null = eye['-']*100/eye.values.sum()\n",
    "\n",
    "Castanhos=black+brown+amber\n",
    "Azuis=blue+grey+sil\n",
    "Verdes=green+hazel\n",
    "Outros=ind+purp+red+vio+yellow+white+gold+null\n",
    "\n",
    "print(\"Primeiro tentei fazer uma limpeza da base juntando as diversas colorações em grupos mais gerais, como 'amber', 'brown' e 'black' em 'Castanhos' para melhor visualização.\")\n",
    "print(\" \")\n",
    "print(\"Neste dataframe\", Azuis,\"% dos heróis tem olhos azuis\")\n",
    "\n",
    "print(\"Já com olhos castanhos, são\", Castanhos,\"% do total\")\n",
    "\n",
    "print(\"E com olhos verdes ao todo são\", Verdes,\"%\")\n",
    "\n",
    "print(\"Outras cores como vermelho, roxo, amarelo e branco e personagens sem informação compõem os\", Outros, \"% restantes\" )"
   ]
  },
  {
   "cell_type": "code",
   "execution_count": 4,
   "metadata": {},
   "outputs": [
    {
     "name": "stdout",
     "output_type": "stream",
     "text": [
      "como vamos usar apenas as 3 principais cores para análise, criarei outro dataframe\n",
      "descartando os 'Outros', o restante dos nossos dados representa 78.52998065764024 % do total, logo os dados acima precisam ser transformados para a nova escala\n",
      "\n",
      "100 dividido por 78.52998065764024 é igual á 1.273399014778325\n",
      "1.273399014778325 vezes 40.81237911025145 é igual á 51.97044334975369\n",
      "1.273399014778325 vezes 24.37137330754352 é igual á 31.034482758620687\n",
      "1.273399014778325 vezes 13.346228239845262 é igual á 16.995073891625616\n",
      "\n",
      "Para os dados da vida real usei o valor médio encontrado em https://www.medicalnewstoday.com/articles/eye-color-percentage com todas suas respectivas fontes na parte inferior do site, também fiz uso das mesmas aglomerações de categoria para melhor visualização\n"
     ]
    },
    {
     "data": {
      "image/png": "[encoded data removed]",
      "text/plain": [
       "<Figure size 432x288 with 2 Axes>"
      ]
     },
     "metadata": {
      "needs_background": "light"
     },
     "output_type": "display_data"
    }
   ],
   "source": [
    "print(\"como vamos usar apenas as 3 principais cores para análise, criarei outro dataframe\")\n",
    "print(\"descartando os 'Outros', o restante dos nossos dados representa\", Castanhos+Azuis+Verdes,\"% do total, logo os dados acima precisam ser transformados para a nova escala\")\n",
    "print()\n",
    "print(\"100 dividido por 78.52998065764024 é igual á\", 100/78.52998065764024)\n",
    "print(\"1.273399014778325 vezes 40.81237911025145 é igual á\", 1.273399014778325*40.81237911025145)\n",
    "print(\"1.273399014778325 vezes 24.37137330754352 é igual á\", 1.273399014778325*24.37137330754352)\n",
    "print(\"1.273399014778325 vezes 13.346228239845262 é igual á\", 1.273399014778325*13.346228239845262)\n",
    "print()\n",
    "print(\"Para os dados da vida real usei o valor médio encontrado em https://www.medicalnewstoday.com/articles/eye-color-percentage com todas suas respectivas fontes na parte inferior do site, também fiz uso das mesmas aglomerações de categoria para melhor visualização\")\n",
    "\n",
    "\n",
    "data = [['Castanho', 31.034482758620687], ['Azul', 51.97044334975369], ['Verde', 16.995073891625616]]\n",
    "data2 = [['Castanho', 80], ['Azul', 12], ['Verde', 8]]\n",
    "  \n",
    "df1 = pd.DataFrame(data, columns = ['color', 'number'])\n",
    "df2 = pd.DataFrame(data2, columns = ['color', 'number'])\n",
    "  \n",
    "color = df1.color\n",
    "number = df1.number\n",
    "\n",
    "color2 = df2.color\n",
    "number2 = df2.number\n",
    "\n",
    "x1 = color\n",
    "x2 = color2\n",
    "\n",
    "y1 = number\n",
    "y2 = number2\n",
    "\n",
    "plt.subplot(1, 2, 1)\n",
    "plt.bar(x=color, height=number, \n",
    "        color=['brown', 'blue', 'green'], edgecolor='black')\n",
    "plt.title('Heróis')\n",
    "plt.ylabel('%')\n",
    "\n",
    "plt.subplot(1, 2, 2)\n",
    "plt.bar(x=color2, height=number2, \n",
    "        color=['brown', 'blue', 'green'], edgecolor='black')\n",
    "plt.title('Vida Real')\n",
    "plt.ylabel('%')\n",
    "\n",
    "plt.tight_layout()"
   ]
  },
  {
   "cell_type": "code",
   "execution_count": 5,
   "metadata": {},
   "outputs": [
    {
     "name": "stdout",
     "output_type": "stream",
     "text": [
      "Como podemos ver, enquanto na vida real praticamente 80% das pessoas tem os olhos castanhos, nos super-heróis isso só acontece em 30% da amostra, com as cores azul e verde somando 70% e com o azul sozinho sendo mais de 50%, tonalidades essas que muitas vezes são idealizadas e desejadas, com muitos modelos a pinturas de seres como angelicais trazendo em si tais traços\n"
     ]
    }
   ],
   "source": [
    "print(\"Como podemos ver, enquanto na vida real praticamente 80% das pessoas tem os olhos castanhos, nos super-heróis isso só acontece em 30% da amostra, com as cores azul e verde somando 70% e com o azul sozinho sendo mais de 50%, tonalidades essas que muitas vezes são idealizadas e desejadas, com muitos modelos a pinturas de seres como angelicais trazendo em si tais traços.\")\n"
   ]
  },
  {
   "cell_type": "code",
   "execution_count": 6,
   "metadata": {},
   "outputs": [
    {
     "name": "stdout",
     "output_type": "stream",
     "text": [
      "Para a segunda pergunta ainda seguindo na linha de idealizações, resolvi olhar para a altura dos personagens em comparação com os dados reais. Seriam os heróis mais altos do que um ser humano comum?\n",
      "\n",
      "Para uma limpeza mais efeiciente resolvi separar os dados direto no dataset, separando assim por feminino e masculino e limpando cerca de 200 valores negativos inutilizaveis que constavam dentre os dados\n"
     ]
    }
   ],
   "source": [
    "print(\"Para a segunda pergunta ainda seguindo na linha de idealizações, resolvi olhar para a altura dos personagens em comparação com os dados reais. Seriam os heróis mais altos do que um ser humano comum?\")\n",
    "print()\n",
    "print(\"Para uma limpeza mais eficiente resolvi separar os dados direto no dataset, separando assim por feminino e masculino e limpando cerca de 200 valores negativos inutilizaveis que constavam dentre os dados\")\n"
   ]
  },
  {
   "cell_type": "code",
   "execution_count": 7,
   "metadata": {},
   "outputs": [
    {
     "name": "stdout",
     "output_type": "stream",
     "text": [
      "O Herói mais alto tem 975.0 centímetros de altura.\n",
      "O Herói  mais baixo tem 15.2 centímetros de altura.\n",
      "A média de alturas dos Heróis 191.97486033519553 centímetros.\n",
      "Já o desvio padrão é igual à 68.8269122365638 centímetros.\n",
      "A mediana é de 185.0 centímetros.\n"
     ]
    }
   ],
   "source": [
    "mediana = m['Height'].median()\n",
    "media = m['Height'].mean()\n",
    "valormaximo = m['Height'].max()\n",
    "valorminimo = m['Height'].min()\n",
    "desviopadrao= m['Height'].std()\n",
    "\n",
    "print(\"O Herói mais alto tem\", valormaximo, \"centímetros de altura.\")\n",
    "print(\"O Herói  mais baixo tem\", valorminimo, \"centímetros de altura.\")\n",
    "\n",
    "print(\"A média de alturas dos Heróis\", media, \"centímetros.\")\n",
    "print(\"Já o desvio padrão é igual à\", desviopadrao,\"centímetros.\")\n",
    "print(\"A mediana é de\", mediana,\"centímetros.\")"
   ]
  },
  {
   "cell_type": "code",
   "execution_count": 8,
   "metadata": {},
   "outputs": [
    {
     "name": "stdout",
     "output_type": "stream",
     "text": [
      "A Heroína mais alta tem 366.0 centímetros de altura\n",
      "A Heroína mais baixa tem 62.5 centímetros de altura\n",
      "A média de alturas das Heroínas é de 174.68402777777777 centímetros\n",
      "Já o desvio padrão é igual à 23.69781691044349\n",
      "A mediana é de 185.0 centímetros.\n"
     ]
    }
   ],
   "source": [
    "media1 = f['Height'].mean()\n",
    "mediana1 = m['Height'].median()\n",
    "valormaximo1 = f['Height'].max()\n",
    "valorminimo1 = f['Height'].min()\n",
    "desviopadrao1= f['Height'].std()\n",
    "\n",
    "print(\"A Heroína mais alta tem\", valormaximo1, \"centímetros de altura\")\n",
    "print(\"A Heroína mais baixa tem\", valorminimo1, \"centímetros de altura\")\n",
    "\n",
    "print(\"A média de alturas das Heroínas é de\", media1, \"centímetros\")\n",
    "print(\"Já o desvio padrão é igual à\", desviopadrao1)\n",
    "print(\"A mediana é de\", mediana1,\"centímetros.\")"
   ]
  },
  {
   "cell_type": "code",
   "execution_count": 9,
   "metadata": {},
   "outputs": [
    {
     "name": "stdout",
     "output_type": "stream",
     "text": [
      "Da mesma forma que fiz na analise sobre coloração dos olhos, retirei os dados reais de https://www.cdc.gov/nchs/data/nhsr/nhsr122-508.pdf \n"
     ]
    },
    {
     "data": {
      "image/png": "[encoded data removed]",
      "text/plain": [
       "<Figure size 432x288 with 1 Axes>"
      ]
     },
     "metadata": {
      "needs_background": "light"
     },
     "output_type": "display_data"
    }
   ],
   "source": [
    "print(\"Da mesma forma que fiz na analise sobre coloração dos olhos, retirei os dados reais de https://www.cdc.gov/nchs/data/nhsr/nhsr122-508.pdf \")\n",
    "\n",
    "data = [[159.5, 'Mulher'], [171, 'Homem'], [174.68402777777777, 'Heroína'], [191.97486033519553, 'Herói']]\n",
    "  \n",
    "r = pd.DataFrame(data, columns = ['height', 'gender'])\n",
    "  \n",
    "height = r.height\n",
    "gender = r.gender\n",
    "\n",
    "x1 = gender\n",
    "y1 = height\n",
    "\n",
    "\n",
    "\n",
    "plt.bar(x=gender, height=height, \n",
    "        color=['red','blue'], edgecolor='black')\n",
    "plt.title('Heróis')\n",
    "plt.ylabel('Altura (cm)')\n",
    "\n",
    "plt.tight_layout()"
   ]
  },
  {
   "cell_type": "code",
   "execution_count": 10,
   "metadata": {},
   "outputs": [
    {
     "name": "stdout",
     "output_type": "stream",
     "text": [
      "Como podemos ver, até mesmo a média de altura das Heroínas ficou levemente acima a dos Homens do mundo real, cerca de 4 centímetros\n",
      "\n",
      "A diferença fica ainda maior quando olhamos para a altura dos Heróis do sexo masculino, sua altura média é 21 centímeros maior do que a altura média dos homens do mundo real.\n",
      "\n",
      "A conclusão da análise é que, como esperado, os super-heróis tem traços idealizados e distantes da média do ser humano comum;\n"
     ]
    }
   ],
   "source": [
    "print(\"Como podemos ver, até mesmo a média de altura das Heroínas ficou levemente acima a dos Homens do mundo real, cerca de 4 centímetros\")\n",
    "print()\n",
    "print(\"A diferença fica ainda maior quando olhamos para a altura dos Heróis do sexo masculino, sua altura média é 21 centímeros maior do que a altura média dos homens do mundo real.\")\n",
    "print()\n",
    "print(\"A conclusão da análise é que, como esperado, os super-heróis tem traços idealizados e distantes da média do ser humano comum;\")"
   ]
  }
 ],
 "metadata": {
  "interpreter": {
   "hash": "ecb0bfb2b95fdec34bfe23aed9a2caced7e56eb1ecc7fa82c4b915c35dfc6e39"
  },
  "kernelspec": {
   "display_name": "Python 3.8.8 64-bit ('base': conda)",
   "language": "python",
   "name": "python3"
  },
  "language_info": {
   "codemirror_mode": {
    "name": "ipython",
    "version": 3
   },
   "file_extension": ".py",
   "mimetype": "text/x-python",
   "name": "python",
   "nbconvert_exporter": "python",
   "pygments_lexer": "ipython3",
   "version": "3.8.8"
  },
  "orig_nbformat": 4
 },
 "nbformat": 4,
 "nbformat_minor": 2
}
